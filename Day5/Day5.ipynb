{
 "cells": [
  {
   "cell_type": "code",
   "execution_count": null,
   "id": "71a543a1-0b96-4fc9-b435-41b0dcee1812",
   "metadata": {},
   "outputs": [],
   "source": [
    "continuation with list datatypes:"
   ]
  },
  {
   "cell_type": "code",
   "execution_count": null,
   "id": "a05568f8-8b3a-4e66-a751-5325c5f3dbde",
   "metadata": {},
   "outputs": [],
   "source": []
  },
  {
   "cell_type": "code",
   "execution_count": null,
   "id": "ce9cda64-c1ea-4faf-b6d2-4b81fc6b6919",
   "metadata": {},
   "outputs": [],
   "source": [
    "Organising the list datatype:"
   ]
  },
  {
   "cell_type": "code",
   "execution_count": null,
   "id": "cb2be0fd-be8b-4493-9193-9ec7f9262cf2",
   "metadata": {},
   "outputs": [],
   "source": []
  },
  {
   "cell_type": "code",
   "execution_count": 3,
   "id": "8d48a21e-e823-4d99-b6cd-4ecaf54272ad",
   "metadata": {},
   "outputs": [],
   "source": [
    "cars = ['bmw','tata','suzuki','audi','toyota','benz']"
   ]
  },
  {
   "cell_type": "code",
   "execution_count": 4,
   "id": "25376102-f745-4136-b98b-f02b8e6664c3",
   "metadata": {},
   "outputs": [
    {
     "name": "stdout",
     "output_type": "stream",
     "text": [
      "['bmw', 'tata', 'suzuki', 'audi', 'toyota', 'benz']\n"
     ]
    }
   ],
   "source": [
    "print(cars)"
   ]
  },
  {
   "cell_type": "code",
   "execution_count": 5,
   "id": "589b95cb-acdf-4d56-934f-b3d4c94d9d3c",
   "metadata": {},
   "outputs": [
    {
     "data": {
      "text/plain": [
       "list"
      ]
     },
     "execution_count": 5,
     "metadata": {},
     "output_type": "execute_result"
    }
   ],
   "source": [
    "type(cars)"
   ]
  },
  {
   "cell_type": "code",
   "execution_count": null,
   "id": "360a2ef7-5f6a-4978-9447-a906b3ab0474",
   "metadata": {},
   "outputs": [],
   "source": []
  },
  {
   "cell_type": "code",
   "execution_count": null,
   "id": "62e2c0fb-78bf-4f6e-89e9-097456f20e4b",
   "metadata": {},
   "outputs": [],
   "source": [
    "To organise data in the list data type:"
   ]
  },
  {
   "cell_type": "code",
   "execution_count": null,
   "id": "cb722089-efad-4f3b-9bbc-f4fdae967bfa",
   "metadata": {},
   "outputs": [],
   "source": [
    "#req: I want to organize the list in alphabetical order.."
   ]
  },
  {
   "cell_type": "code",
   "execution_count": null,
   "id": "4eb762f9-f7ce-4d54-bbac-4b76e3129beb",
   "metadata": {},
   "outputs": [],
   "source": [
    "A, B, C, D"
   ]
  },
  {
   "cell_type": "code",
   "execution_count": null,
   "id": "b25e609b-2740-4116-b797-ff8aa039b3ef",
   "metadata": {},
   "outputs": [],
   "source": [
    "there are 2 approaches:\n",
    "\n",
    "1. temporary approach: sorted method ===> we will be able to get the original order defined.\n",
    "\n",
    "2. permanent approach: sort method ====> sort method"
   ]
  },
  {
   "cell_type": "code",
   "execution_count": 6,
   "id": "2c0e1759-201d-4580-bb4c-d720fcf4f578",
   "metadata": {},
   "outputs": [
    {
     "name": "stdout",
     "output_type": "stream",
     "text": [
      "['audi', 'benz', 'bmw', 'suzuki', 'tata', 'toyota']\n"
     ]
    }
   ],
   "source": [
    "print(sorted(cars))"
   ]
  },
  {
   "cell_type": "code",
   "execution_count": null,
   "id": "4ae65172-ae9c-4f25-aa25-c93d5f7648dc",
   "metadata": {},
   "outputs": [],
   "source": [
    "benz, bmw ====> e , m"
   ]
  },
  {
   "cell_type": "code",
   "execution_count": 7,
   "id": "d9a52241-8f2f-467b-92f5-347d6f8e516e",
   "metadata": {},
   "outputs": [
    {
     "name": "stdout",
     "output_type": "stream",
     "text": [
      "['bmw', 'tata', 'suzuki', 'audi', 'toyota', 'benz']\n"
     ]
    }
   ],
   "source": [
    "print(cars) # this is the original order"
   ]
  },
  {
   "cell_type": "code",
   "execution_count": null,
   "id": "97e8f9ca-923f-4121-85e2-fefd5d2e26a6",
   "metadata": {},
   "outputs": [],
   "source": []
  },
  {
   "cell_type": "code",
   "execution_count": 8,
   "id": "64c76a0d-671f-46c6-9e00-badb0fc7a7d8",
   "metadata": {},
   "outputs": [],
   "source": [
    "cars.sort()"
   ]
  },
  {
   "cell_type": "code",
   "execution_count": 9,
   "id": "301a77e1-cd06-4ded-b7d5-c94c7454c5e8",
   "metadata": {},
   "outputs": [
    {
     "name": "stdout",
     "output_type": "stream",
     "text": [
      "['audi', 'benz', 'bmw', 'suzuki', 'tata', 'toyota']\n"
     ]
    }
   ],
   "source": [
    "print(cars)"
   ]
  },
  {
   "cell_type": "code",
   "execution_count": null,
   "id": "cdb6a6f0-a15a-4a85-bc44-524680fcbb68",
   "metadata": {},
   "outputs": [],
   "source": []
  },
  {
   "cell_type": "code",
   "execution_count": null,
   "id": "f87b6188-452c-4224-9188-6c1b7fddfd46",
   "metadata": {},
   "outputs": [],
   "source": [
    "#Interview question: What is the difference between sorted and sort method in the list DT?"
   ]
  },
  {
   "cell_type": "code",
   "execution_count": null,
   "id": "9a5ae9a8-75fa-4e40-a596-442b2a8b8018",
   "metadata": {},
   "outputs": [],
   "source": [
    "Sorted is used for temporary sorting of names whereas sort will permanently update the values in the list"
   ]
  },
  {
   "cell_type": "code",
   "execution_count": null,
   "id": "0eeb2045-1bed-4c97-a322-e005c208bb29",
   "metadata": {},
   "outputs": [],
   "source": [
    "# I want to count the no. of elements in the list"
   ]
  },
  {
   "cell_type": "code",
   "execution_count": 10,
   "id": "00ae636d-7b57-4da6-a444-278143d6ddc7",
   "metadata": {},
   "outputs": [
    {
     "data": {
      "text/plain": [
       "6"
      ]
     },
     "execution_count": 10,
     "metadata": {},
     "output_type": "execute_result"
    }
   ],
   "source": [
    "len(cars)"
   ]
  },
  {
   "cell_type": "code",
   "execution_count": null,
   "id": "318f9dc9-a57b-4569-822a-01f6ae81a13c",
   "metadata": {},
   "outputs": [],
   "source": [
    "# I want to print the list in the A-Z, Z-A"
   ]
  },
  {
   "cell_type": "code",
   "execution_count": 11,
   "id": "1fe26afd-9b4d-428b-8a00-070bc7a1a29b",
   "metadata": {},
   "outputs": [],
   "source": [
    "cars.reverse()"
   ]
  },
  {
   "cell_type": "code",
   "execution_count": 12,
   "id": "5939bec0-7460-42ae-8c0c-9080cc40d345",
   "metadata": {},
   "outputs": [
    {
     "name": "stdout",
     "output_type": "stream",
     "text": [
      "['toyota', 'tata', 'suzuki', 'bmw', 'benz', 'audi']\n"
     ]
    }
   ],
   "source": [
    "print(cars)"
   ]
  },
  {
   "cell_type": "code",
   "execution_count": null,
   "id": "9a8f4b69-8bb7-4d9c-8562-f8812c856937",
   "metadata": {},
   "outputs": [],
   "source": []
  },
  {
   "cell_type": "code",
   "execution_count": null,
   "id": "e7e163a0-35cb-4713-86d0-06f728b868d0",
   "metadata": {},
   "outputs": [],
   "source": [
    "Introduction to slicing"
   ]
  },
  {
   "cell_type": "code",
   "execution_count": null,
   "id": "81f336df-0d89-4878-a49a-ad8c222de77e",
   "metadata": {},
   "outputs": [],
   "source": [
    "Breaking the list in multiple parts"
   ]
  },
  {
   "cell_type": "code",
   "execution_count": null,
   "id": "028bd104-870f-4350-94d6-cd530b278847",
   "metadata": {},
   "outputs": [],
   "source": [
    "Introduction to slicing:"
   ]
  },
  {
   "cell_type": "code",
   "execution_count": null,
   "id": "d3bfe064-7911-46be-ac99-9a0114ced1f7",
   "metadata": {},
   "outputs": [],
   "source": []
  },
  {
   "cell_type": "code",
   "execution_count": 14,
   "id": "f8ef29cb-a587-4609-ac07-e4578c73a526",
   "metadata": {},
   "outputs": [],
   "source": [
    "students = ['anika','arpiat','bhushan','bhanu','chandra','cynthia','danish']"
   ]
  },
  {
   "cell_type": "code",
   "execution_count": 15,
   "id": "b69845be-f5db-4d76-a04c-e56d6937829e",
   "metadata": {},
   "outputs": [
    {
     "name": "stdout",
     "output_type": "stream",
     "text": [
      "['anika', 'arpiat', 'bhushan', 'bhanu', 'chandra', 'cynthia', 'danish']\n"
     ]
    }
   ],
   "source": [
    "print(students)"
   ]
  },
  {
   "cell_type": "code",
   "execution_count": null,
   "id": "f89ec808-ead8-4d34-8c25-f7d6a3806beb",
   "metadata": {},
   "outputs": [],
   "source": [
    "#general syntax for slicing:"
   ]
  },
  {
   "cell_type": "code",
   "execution_count": null,
   "id": "09bcb85b-fc4b-432a-b418-36ecbf3b60ce",
   "metadata": {},
   "outputs": [],
   "source": [
    "[start_value:stop_value: step_count]"
   ]
  },
  {
   "cell_type": "code",
   "execution_count": null,
   "id": "7b6d9440-abd4-4a0c-8a8e-404c29bdae55",
   "metadata": {},
   "outputs": [],
   "source": [
    "Note: stop is always exclusive, to include the stop value increment the index by +1."
   ]
  },
  {
   "cell_type": "code",
   "execution_count": null,
   "id": "6fa9e775-cbd3-40f4-a2db-1632101d0ffd",
   "metadata": {},
   "outputs": [],
   "source": []
  },
  {
   "cell_type": "code",
   "execution_count": null,
   "id": "0069621b-24a5-4072-b569-ea18e45f50c7",
   "metadata": {},
   "outputs": [],
   "source": [
    "#req: I want to include anika and arpita in the slice."
   ]
  },
  {
   "cell_type": "code",
   "execution_count": 16,
   "id": "bad52531-c906-4572-92a4-c856730ae22c",
   "metadata": {},
   "outputs": [
    {
     "name": "stdout",
     "output_type": "stream",
     "text": [
      "['anika']\n"
     ]
    }
   ],
   "source": [
    "print(students[0:1])"
   ]
  },
  {
   "cell_type": "code",
   "execution_count": null,
   "id": "05c78a04-c3db-4b9f-b593-a7dbeeeda892",
   "metadata": {},
   "outputs": [],
   "source": [
    "As it always shows value as exclusive so we have to add another index number to get correct value."
   ]
  },
  {
   "cell_type": "code",
   "execution_count": 17,
   "id": "cd6bc806-b6f6-4971-8f95-7af749a7a614",
   "metadata": {},
   "outputs": [
    {
     "name": "stdout",
     "output_type": "stream",
     "text": [
      "['anika', 'arpiat']\n"
     ]
    }
   ],
   "source": [
    "print(students[0:2])"
   ]
  },
  {
   "cell_type": "code",
   "execution_count": null,
   "id": "dfbf387a-002e-4351-ac73-45c28ce58dfe",
   "metadata": {},
   "outputs": [],
   "source": [
    "#req: Bhushan and Bhanu"
   ]
  },
  {
   "cell_type": "code",
   "execution_count": 18,
   "id": "a05cb13e-1566-47bb-bb6a-7fc30d356feb",
   "metadata": {},
   "outputs": [
    {
     "name": "stdout",
     "output_type": "stream",
     "text": [
      "['bhushan', 'bhanu']\n"
     ]
    }
   ],
   "source": [
    "print(students[2:4])"
   ]
  },
  {
   "cell_type": "code",
   "execution_count": null,
   "id": "e423a341-2638-4933-81b0-6e0354e4400d",
   "metadata": {},
   "outputs": [],
   "source": [
    "stepcount in syntax indicates the value alternatively/ the value to be printed from list"
   ]
  },
  {
   "cell_type": "code",
   "execution_count": null,
   "id": "6fb96c8c-8ea0-4af0-b052-244b2524e7d1",
   "metadata": {},
   "outputs": [],
   "source": [
    "in below eg. we gave step count as 2, so we will get values alternatively in the list."
   ]
  },
  {
   "cell_type": "code",
   "execution_count": null,
   "id": "9bef4f6f-fd1c-407a-a9bb-0a5f59121235",
   "metadata": {},
   "outputs": [],
   "source": []
  },
  {
   "cell_type": "code",
   "execution_count": 19,
   "id": "0f58e41e-bc87-4400-89ee-9eedd8fd120c",
   "metadata": {},
   "outputs": [
    {
     "name": "stdout",
     "output_type": "stream",
     "text": [
      "['anika', 'bhushan', 'chandra', 'danish']\n"
     ]
    }
   ],
   "source": [
    "print(students[0:7:2])"
   ]
  },
  {
   "cell_type": "code",
   "execution_count": 20,
   "id": "b8bcb5c3-031a-4474-a200-78180ff8eaaf",
   "metadata": {},
   "outputs": [
    {
     "name": "stdout",
     "output_type": "stream",
     "text": [
      "['anika', 'arpiat', 'bhushan', 'bhanu', 'chandra', 'cynthia', 'danish']\n"
     ]
    }
   ],
   "source": [
    "print(students)"
   ]
  },
  {
   "cell_type": "code",
   "execution_count": null,
   "id": "5c43ae71-91c5-4a3b-8500-9cb5458eb1f3",
   "metadata": {},
   "outputs": [],
   "source": []
  },
  {
   "cell_type": "code",
   "execution_count": null,
   "id": "040fa050-d47c-4f2a-921a-afb90a659109",
   "metadata": {},
   "outputs": [],
   "source": [
    "Intro to tuple DT:"
   ]
  },
  {
   "cell_type": "code",
   "execution_count": null,
   "id": "590042f7-89ee-4c30-a257-7f20f4dbfc8f",
   "metadata": {},
   "outputs": [],
   "source": [
    "Definition: An immutable list is called as a tuple\n",
    "\n",
    "Classification: It is classified as immutable DT\n",
    "\n",
    "How to define the tuple DT: ( )"
   ]
  },
  {
   "cell_type": "code",
   "execution_count": null,
   "id": "99ea8f02-a993-4e0a-9b05-5cbb040e24e5",
   "metadata": {},
   "outputs": [],
   "source": [
    "we can define the tuple DT in () (brackets) and values cannot be changed in the tuple whereas in list we can change the value."
   ]
  },
  {
   "cell_type": "code",
   "execution_count": null,
   "id": "4e8d71db-8ba5-4d4d-9f68-0ae6835a9fdb",
   "metadata": {},
   "outputs": [],
   "source": []
  },
  {
   "cell_type": "code",
   "execution_count": 21,
   "id": "feef90d3-bb52-473f-875f-d594a8a967bd",
   "metadata": {},
   "outputs": [],
   "source": [
    "dimensions = (20,50)"
   ]
  },
  {
   "cell_type": "code",
   "execution_count": 22,
   "id": "bb364c9d-aa64-4847-a702-6940ce357549",
   "metadata": {},
   "outputs": [
    {
     "name": "stdout",
     "output_type": "stream",
     "text": [
      "(20, 50)\n"
     ]
    }
   ],
   "source": [
    "print(dimensions)"
   ]
  },
  {
   "cell_type": "code",
   "execution_count": 23,
   "id": "e9d0282f-0b73-4618-acd3-7f5642032dc4",
   "metadata": {},
   "outputs": [
    {
     "data": {
      "text/plain": [
       "tuple"
      ]
     },
     "execution_count": 23,
     "metadata": {},
     "output_type": "execute_result"
    }
   ],
   "source": [
    "type(dimensions)"
   ]
  },
  {
   "cell_type": "code",
   "execution_count": null,
   "id": "d8e8d91a-29b2-4871-bec2-c3e6ae9bdbeb",
   "metadata": {},
   "outputs": [],
   "source": []
  },
  {
   "cell_type": "code",
   "execution_count": 24,
   "id": "6a325551-7e21-466c-8163-04d9c56a57f6",
   "metadata": {},
   "outputs": [
    {
     "ename": "TypeError",
     "evalue": "'tuple' object does not support item assignment",
     "output_type": "error",
     "traceback": [
      "\u001b[1;31m---------------------------------------------------------------------------\u001b[0m",
      "\u001b[1;31mTypeError\u001b[0m                                 Traceback (most recent call last)",
      "Cell \u001b[1;32mIn[24], line 1\u001b[0m\n\u001b[1;32m----> 1\u001b[0m dimensions[\u001b[38;5;241m0\u001b[39m] \u001b[38;5;241m=\u001b[39m \u001b[38;5;241m30\u001b[39m\n",
      "\u001b[1;31mTypeError\u001b[0m: 'tuple' object does not support item assignment"
     ]
    }
   ],
   "source": [
    "dimensions[0] = 30"
   ]
  },
  {
   "cell_type": "code",
   "execution_count": null,
   "id": "65bdbc3d-b6c6-4921-944e-8ddcd084fd15",
   "metadata": {},
   "outputs": [],
   "source": [
    "We cannot change any value in list, will receive errors when we try to change. We use tuple we use tuple when the values needs to be fixed. \n",
    "\n",
    "Functionalities of tuple  works like list but can't be changed. "
   ]
  },
  {
   "cell_type": "code",
   "execution_count": 25,
   "id": "1624cddc-c109-4f75-995c-0e37c24a85ed",
   "metadata": {},
   "outputs": [
    {
     "name": "stdout",
     "output_type": "stream",
     "text": [
      "50\n"
     ]
    }
   ],
   "source": [
    "print(dimensions[1])"
   ]
  }
 ],
 "metadata": {
  "kernelspec": {
   "display_name": "Python 3 (ipykernel)",
   "language": "python",
   "name": "python3"
  },
  "language_info": {
   "codemirror_mode": {
    "name": "ipython",
    "version": 3
   },
   "file_extension": ".py",
   "mimetype": "text/x-python",
   "name": "python",
   "nbconvert_exporter": "python",
   "pygments_lexer": "ipython3",
   "version": "3.13.5"
  }
 },
 "nbformat": 4,
 "nbformat_minor": 5
}
