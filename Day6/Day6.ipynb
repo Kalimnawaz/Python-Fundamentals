{
 "cells": [
  {
   "cell_type": "code",
   "execution_count": null,
   "id": "8ebd0990-851d-4c92-b578-094be791d1c8",
   "metadata": {},
   "outputs": [],
   "source": [
    "Introduction to dictionaries:"
   ]
  },
  {
   "cell_type": "code",
   "execution_count": null,
   "id": "5e0ab901-e57e-4856-a384-3dad5f338cb4",
   "metadata": {},
   "outputs": [],
   "source": [
    "Definition: A dictionary is a combination of key, value pairs. **\n",
    "\n",
    "Classification: It is classified as a mutable DT.\n",
    "\n",
    "How to define the dictionary: {} # curly brackets/ flower brackets"
   ]
  },
  {
   "cell_type": "code",
   "execution_count": null,
   "id": "df626499-4d57-4e0b-8a24-3faf8eb94493",
   "metadata": {},
   "outputs": [],
   "source": []
  },
  {
   "cell_type": "code",
   "execution_count": null,
   "id": "960886fc-b61e-4a57-93c4-ebe1e00bd212",
   "metadata": {},
   "outputs": [],
   "source": [
    "#req: I want to design an alien game."
   ]
  },
  {
   "cell_type": "code",
   "execution_count": 3,
   "id": "7c31ba81-3792-4132-b329-0e2b42135ebf",
   "metadata": {},
   "outputs": [
    {
     "name": "stdout",
     "output_type": "stream",
     "text": [
      "{'color': 'green', 'points': 5}\n"
     ]
    }
   ],
   "source": [
    "alien = {'color':'green','points':5}\n",
    "\n",
    "print(alien)"
   ]
  },
  {
   "cell_type": "code",
   "execution_count": 4,
   "id": "9e63c6af-1a94-45b7-b8c4-62f33f6ca2f0",
   "metadata": {},
   "outputs": [
    {
     "data": {
      "text/plain": [
       "dict"
      ]
     },
     "execution_count": 4,
     "metadata": {},
     "output_type": "execute_result"
    }
   ],
   "source": [
    "type(alien)"
   ]
  },
  {
   "cell_type": "code",
   "execution_count": null,
   "id": "1cabf3fc-d29e-495c-b79e-0172da4e9047",
   "metadata": {},
   "outputs": [],
   "source": [
    "#dictionary is written as dict"
   ]
  },
  {
   "cell_type": "code",
   "execution_count": null,
   "id": "444d28f8-bf90-45e1-8ad4-c676ed83fb31",
   "metadata": {},
   "outputs": [],
   "source": [
    "#req: I want to add the start_position of the alien"
   ]
  },
  {
   "cell_type": "code",
   "execution_count": 6,
   "id": "92268cd3-12f2-4fae-bd1a-4da04e3ff4e2",
   "metadata": {},
   "outputs": [],
   "source": [
    "alien[\"start_position\"] = \"level1\""
   ]
  },
  {
   "cell_type": "code",
   "execution_count": 7,
   "id": "02117090-0c32-4add-a329-2be6bf2faf04",
   "metadata": {},
   "outputs": [
    {
     "name": "stdout",
     "output_type": "stream",
     "text": [
      "{'color': 'green', 'points': 5, 'start_position': 'level1'}\n"
     ]
    }
   ],
   "source": [
    "print(alien)"
   ]
  },
  {
   "cell_type": "code",
   "execution_count": null,
   "id": "3d9b884b-0bd4-4b78-a08f-a18ef1fee3eb",
   "metadata": {},
   "outputs": [],
   "source": [
    "note: in the dictionary keys will be acting as indexes"
   ]
  },
  {
   "cell_type": "code",
   "execution_count": null,
   "id": "a3e1c085-0051-487d-877c-126f82ea4dab",
   "metadata": {},
   "outputs": [],
   "source": [
    "#req: I want to know the color of the alien..?"
   ]
  },
  {
   "cell_type": "code",
   "execution_count": 8,
   "id": "b309fe20-ff82-4917-955e-88f389714edc",
   "metadata": {},
   "outputs": [
    {
     "ename": "KeyError",
     "evalue": "0",
     "output_type": "error",
     "traceback": [
      "\u001b[1;31m---------------------------------------------------------------------------\u001b[0m",
      "\u001b[1;31mKeyError\u001b[0m                                  Traceback (most recent call last)",
      "Cell \u001b[1;32mIn[8], line 1\u001b[0m\n\u001b[1;32m----> 1\u001b[0m \u001b[38;5;28mprint\u001b[39m(alien[\u001b[38;5;241m0\u001b[39m])\n",
      "\u001b[1;31mKeyError\u001b[0m: 0"
     ]
    }
   ],
   "source": [
    "print(alien[0])"
   ]
  },
  {
   "cell_type": "code",
   "execution_count": 9,
   "id": "d8e6da20-614f-49ee-8614-09d0d7160ac2",
   "metadata": {},
   "outputs": [
    {
     "name": "stdout",
     "output_type": "stream",
     "text": [
      "green\n"
     ]
    }
   ],
   "source": [
    "print(alien['color'])"
   ]
  },
  {
   "cell_type": "code",
   "execution_count": null,
   "id": "55309da4-d03c-4d1b-bdac-c782bc682d9e",
   "metadata": {},
   "outputs": [],
   "source": []
  },
  {
   "cell_type": "code",
   "execution_count": null,
   "id": "c69c46a7-277c-4ce3-b26f-612f9f33922d",
   "metadata": {},
   "outputs": [],
   "source": [
    "#req: how to modify the key value pairs in the dictionary..."
   ]
  },
  {
   "cell_type": "code",
   "execution_count": null,
   "id": "bd5ef9fc-d2f2-4c6a-9ac1-e229d708da72",
   "metadata": {},
   "outputs": [],
   "source": [
    "#req: I want to modify the color of the alien from green to red.."
   ]
  },
  {
   "cell_type": "code",
   "execution_count": 10,
   "id": "8ebeec3e-083b-4f55-82bd-9873d031192b",
   "metadata": {},
   "outputs": [],
   "source": [
    "alien['color'] = 'red'"
   ]
  },
  {
   "cell_type": "code",
   "execution_count": 11,
   "id": "9471c89f-682f-4d9f-89e1-b94722a2d19c",
   "metadata": {},
   "outputs": [
    {
     "name": "stdout",
     "output_type": "stream",
     "text": [
      "{'color': 'red', 'points': 5, 'start_position': 'level1'}\n"
     ]
    }
   ],
   "source": [
    "print(alien)"
   ]
  },
  {
   "cell_type": "code",
   "execution_count": null,
   "id": "9316756d-6f9b-4358-a530-8886626ee1f4",
   "metadata": {},
   "outputs": [],
   "source": []
  },
  {
   "cell_type": "code",
   "execution_count": null,
   "id": "c7f4e300-13e0-4be7-a903-2ee533b189b8",
   "metadata": {},
   "outputs": [],
   "source": [
    "#req: want to create a fb user account."
   ]
  },
  {
   "cell_type": "code",
   "execution_count": 12,
   "id": "b480519e-960a-4501-a443-df63e00b988d",
   "metadata": {},
   "outputs": [],
   "source": [
    "user_account = {'firstname':'code','lastname':'training','username':'codetrainingAcademy','dob':'01-01-2020','pwd':'54321'}"
   ]
  },
  {
   "cell_type": "code",
   "execution_count": 13,
   "id": "c5cc4292-7a6a-48a1-a4a4-c0ac414720ac",
   "metadata": {},
   "outputs": [
    {
     "name": "stdout",
     "output_type": "stream",
     "text": [
      "{'firstname': 'code', 'lastname': 'training', 'username': 'codetrainingAcademy', 'dob': '01-01-2020', 'pwd': '54321'}\n"
     ]
    }
   ],
   "source": [
    "print(user_account)"
   ]
  },
  {
   "cell_type": "code",
   "execution_count": null,
   "id": "8515e5c8-2218-442e-9920-321dd0de3a59",
   "metadata": {},
   "outputs": [],
   "source": []
  },
  {
   "cell_type": "code",
   "execution_count": null,
   "id": "b9a01b6c-8ee6-48e6-a407-b3c98ecf12b0",
   "metadata": {},
   "outputs": [],
   "source": [
    "# how to delete the key value pairs"
   ]
  },
  {
   "cell_type": "code",
   "execution_count": null,
   "id": "4d179024-1d6c-4f3d-b931-594b5448bb3b",
   "metadata": {},
   "outputs": [],
   "source": [
    "#req: I want to delete the lastname"
   ]
  },
  {
   "cell_type": "code",
   "execution_count": 14,
   "id": "6e2a8a20-8e76-414c-bac2-aac8a2c1a401",
   "metadata": {},
   "outputs": [],
   "source": [
    "del user_account['lastname']"
   ]
  },
  {
   "cell_type": "code",
   "execution_count": 16,
   "id": "99c07899-cc85-41ba-8606-947d231ccbbe",
   "metadata": {},
   "outputs": [
    {
     "name": "stdout",
     "output_type": "stream",
     "text": [
      "{'firstname': 'code', 'username': 'codetrainingAcademy', 'dob': '01-01-2020', 'pwd': '54321'}\n"
     ]
    }
   ],
   "source": [
    "print(user_account)"
   ]
  },
  {
   "cell_type": "code",
   "execution_count": null,
   "id": "376d0c5b-675d-400c-aed9-a4e3d0e6eafa",
   "metadata": {},
   "outputs": [],
   "source": []
  },
  {
   "cell_type": "code",
   "execution_count": null,
   "id": "f8cfd7e5-7ddd-4f16-be18-533c4c954358",
   "metadata": {},
   "outputs": [],
   "source": [
    "Introduction to looping statements:"
   ]
  },
  {
   "cell_type": "code",
   "execution_count": null,
   "id": "fb1cdd0b-9d61-4511-bd51-7eea090e4cb3",
   "metadata": {},
   "outputs": [],
   "source": []
  },
  {
   "cell_type": "code",
   "execution_count": 17,
   "id": "8d942dff-3eca-4ede-bff6-c18488a3d8b3",
   "metadata": {},
   "outputs": [],
   "source": [
    "students = ['durga','dinesh','kavya','noor','raza','abid','joseph']"
   ]
  },
  {
   "cell_type": "code",
   "execution_count": 18,
   "id": "1c9bbcb3-4a9e-4aa7-a1f8-4fa682f49690",
   "metadata": {},
   "outputs": [
    {
     "name": "stdout",
     "output_type": "stream",
     "text": [
      "keep up the good work, Durga\n"
     ]
    }
   ],
   "source": [
    "print(f\"keep up the good work, {students[0].title()}\")"
   ]
  },
  {
   "cell_type": "code",
   "execution_count": null,
   "id": "a4f30a09-11ed-4426-bd0b-892cb7cf9259",
   "metadata": {},
   "outputs": [],
   "source": []
  },
  {
   "cell_type": "code",
   "execution_count": null,
   "id": "4ddc6bcb-2b67-47e9-ad12-1a925c8e26f6",
   "metadata": {},
   "outputs": [],
   "source": [
    "Introduction to for loop:"
   ]
  },
  {
   "cell_type": "code",
   "execution_count": null,
   "id": "9e8c3ef7-959a-4273-929b-1c16cf60fddf",
   "metadata": {},
   "outputs": [],
   "source": [
    "# general syntax of for loop:\n",
    "\n",
    "for tempvar in mainvar:\n",
    "    print(tempvar)"
   ]
  },
  {
   "cell_type": "code",
   "execution_count": 19,
   "id": "03576192-5214-4967-9f24-2778ed4a9b36",
   "metadata": {},
   "outputs": [
    {
     "name": "stdout",
     "output_type": "stream",
     "text": [
      "keep up the good work, Durga\n",
      "keep up the good work, Dinesh\n",
      "keep up the good work, Kavya\n",
      "keep up the good work, Noor\n",
      "keep up the good work, Raza\n",
      "keep up the good work, Abid\n",
      "keep up the good work, Joseph\n"
     ]
    }
   ],
   "source": [
    "for x in students:\n",
    "    print(f\"keep up the good work, {x.title()}\")"
   ]
  },
  {
   "cell_type": "code",
   "execution_count": 20,
   "id": "122e49d6-f9a8-4100-b5b8-a081284230a8",
   "metadata": {},
   "outputs": [
    {
     "name": "stdout",
     "output_type": "stream",
     "text": [
      "durga\n",
      "dinesh\n",
      "kavya\n",
      "noor\n",
      "raza\n",
      "abid\n",
      "joseph\n"
     ]
    }
   ],
   "source": [
    "for a in students:\n",
    "    print(a)"
   ]
  },
  {
   "cell_type": "code",
   "execution_count": 21,
   "id": "071e6e55-f314-48ce-87a1-b64711c14d25",
   "metadata": {},
   "outputs": [
    {
     "ename": "IndentationError",
     "evalue": "expected an indented block after 'for' statement on line 1 (4141953483.py, line 2)",
     "output_type": "error",
     "traceback": [
      "\u001b[1;36m  Cell \u001b[1;32mIn[21], line 2\u001b[1;36m\u001b[0m\n\u001b[1;33m    print(a)\u001b[0m\n\u001b[1;37m    ^\u001b[0m\n\u001b[1;31mIndentationError\u001b[0m\u001b[1;31m:\u001b[0m expected an indented block after 'for' statement on line 1\n"
     ]
    }
   ],
   "source": [
    "for a in students:\n",
    "print(a)"
   ]
  },
  {
   "cell_type": "code",
   "execution_count": 22,
   "id": "983c141d-5c3f-4b19-ada9-1a91943748c4",
   "metadata": {},
   "outputs": [
    {
     "name": "stdout",
     "output_type": "stream",
     "text": [
      "durga\n",
      "dinesh\n",
      "kavya\n",
      "noor\n",
      "raza\n",
      "abid\n",
      "joseph\n"
     ]
    }
   ],
   "source": [
    "for a in students:\n",
    "    print(a)"
   ]
  },
  {
   "cell_type": "code",
   "execution_count": null,
   "id": "f5f3b9f4-56a9-4c79-8282-52d22cd0db94",
   "metadata": {},
   "outputs": [],
   "source": []
  }
 ],
 "metadata": {
  "kernelspec": {
   "display_name": "Python 3 (ipykernel)",
   "language": "python",
   "name": "python3"
  },
  "language_info": {
   "codemirror_mode": {
    "name": "ipython",
    "version": 3
   },
   "file_extension": ".py",
   "mimetype": "text/x-python",
   "name": "python",
   "nbconvert_exporter": "python",
   "pygments_lexer": "ipython3",
   "version": "3.13.5"
  }
 },
 "nbformat": 4,
 "nbformat_minor": 5
}
