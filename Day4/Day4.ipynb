{
 "cells": [
  {
   "cell_type": "code",
   "execution_count": null,
   "id": "32b2f186-cbbb-4277-aa4b-60fbb93e8f0c",
   "metadata": {},
   "outputs": [],
   "source": [
    "Introduction to datatypes:\n",
    "\n",
    "1. string =====> completed\n",
    "\n",
    "2. Numbers ====> integers (int) and float (decimals) = 0.1, 0.2\n",
    "\n",
    "3. list datatype\n",
    "\n",
    "4. tuples\n",
    "\n",
    "5. Dictionaries"
   ]
  },
  {
   "cell_type": "code",
   "execution_count": null,
   "id": "9a8ec503-4ff6-4f19-a536-4848e6373642",
   "metadata": {},
   "outputs": [],
   "source": [
    "Introduction to Number Datatypes"
   ]
  },
  {
   "cell_type": "code",
   "execution_count": 1,
   "id": "bea90494-b767-49e7-9753-a4aec68128a3",
   "metadata": {},
   "outputs": [
    {
     "name": "stdout",
     "output_type": "stream",
     "text": [
      "123\n"
     ]
    }
   ],
   "source": [
    "number = 123\n",
    "\n",
    "print (number)"
   ]
  },
  {
   "cell_type": "code",
   "execution_count": 2,
   "id": "30a0e281-4f00-4b25-b258-beabecf3bf16",
   "metadata": {},
   "outputs": [
    {
     "data": {
      "text/plain": [
       "int"
      ]
     },
     "execution_count": 2,
     "metadata": {},
     "output_type": "execute_result"
    }
   ],
   "source": [
    "type(number)"
   ]
  },
  {
   "cell_type": "code",
   "execution_count": 3,
   "id": "96931b95-1c75-41f2-9aab-8b60a7cb3c78",
   "metadata": {},
   "outputs": [
    {
     "name": "stdout",
     "output_type": "stream",
     "text": [
      "0.1\n"
     ]
    }
   ],
   "source": [
    "num2 = 0.1\n",
    "\n",
    "print(num2)"
   ]
  },
  {
   "cell_type": "code",
   "execution_count": 4,
   "id": "f382481c-2811-461f-b465-bf19b9327e31",
   "metadata": {},
   "outputs": [
    {
     "data": {
      "text/plain": [
       "float"
      ]
     },
     "execution_count": 4,
     "metadata": {},
     "output_type": "execute_result"
    }
   ],
   "source": [
    "type(num2)"
   ]
  },
  {
   "cell_type": "code",
   "execution_count": null,
   "id": "a9143642-8c18-4890-8845-3b7d34a4b3a9",
   "metadata": {},
   "outputs": [],
   "source": [
    "Introduction to list Datatypes\n",
    "\n",
    "Definition: A list is a collection of items defined in a particular order.\n",
    "\n",
    "Classification: It is classified as mutable datatype (which we can edit/ alter)\n",
    "\n",
    "how to define the list datatype \" [] # square brackets."
   ]
  },
  {
   "cell_type": "code",
   "execution_count": 10,
   "id": "20299953-f23a-44c8-b12f-03cf18d4f75e",
   "metadata": {},
   "outputs": [
    {
     "name": "stdout",
     "output_type": "stream",
     "text": [
      "['arpita', 'ashwini', 'asma', 'bhuvan', 'david', 'karthik']\n"
     ]
    }
   ],
   "source": [
    "students = ['arpita','ashwini','asma','bhuvan','david','karthik']\n",
    "\n",
    "print(students)"
   ]
  },
  {
   "cell_type": "code",
   "execution_count": 6,
   "id": "9d859040-0d69-482c-bb5d-2c68bec4a740",
   "metadata": {},
   "outputs": [
    {
     "data": {
      "text/plain": [
       "list"
      ]
     },
     "execution_count": 6,
     "metadata": {},
     "output_type": "execute_result"
    }
   ],
   "source": [
    "type(students)"
   ]
  },
  {
   "cell_type": "code",
   "execution_count": null,
   "id": "d0ff7270-0fa6-4704-a5dd-aeff2c6d1131",
   "metadata": {},
   "outputs": [],
   "source": [
    "Introdcution to Indexing: 0,1,2,3,4,5....."
   ]
  },
  {
   "cell_type": "code",
   "execution_count": null,
   "id": "0b4c9328-f839-4944-b475-3bb2ecba7f57",
   "metadata": {},
   "outputs": [],
   "source": [
    "#req: I want to access ashwnini name in the output...?"
   ]
  },
  {
   "cell_type": "code",
   "execution_count": 9,
   "id": "351e75c5-e40d-4271-a039-1a5481ffb9d3",
   "metadata": {},
   "outputs": [
    {
     "name": "stdout",
     "output_type": "stream",
     "text": [
      "ashwini\n"
     ]
    }
   ],
   "source": [
    "print(students[1])"
   ]
  },
  {
   "cell_type": "code",
   "execution_count": null,
   "id": "a7946bfa-699b-488f-b3e4-271116262004",
   "metadata": {},
   "outputs": [],
   "source": [
    "#req: I want to access ashwnini name in the output...?"
   ]
  },
  {
   "cell_type": "code",
   "execution_count": 7,
   "id": "047cb181-ff68-4648-94cc-7fb9fe0213f2",
   "metadata": {},
   "outputs": [
    {
     "name": "stdout",
     "output_type": "stream",
     "text": [
      "Ashwini\n"
     ]
    }
   ],
   "source": [
    "print(students[1].title())"
   ]
  },
  {
   "cell_type": "code",
   "execution_count": null,
   "id": "1937e504-7e25-463b-ba14-157a8adeeaa8",
   "metadata": {},
   "outputs": [],
   "source": [
    "#req: I want to access bhuvan name in the output...?"
   ]
  },
  {
   "cell_type": "code",
   "execution_count": 8,
   "id": "f0971c05-e357-4c99-a634-993c8510ddf0",
   "metadata": {},
   "outputs": [
    {
     "name": "stdout",
     "output_type": "stream",
     "text": [
      "Bhuvan\n"
     ]
    }
   ],
   "source": [
    "print(students[3].title())"
   ]
  },
  {
   "cell_type": "code",
   "execution_count": null,
   "id": "361950c4-129d-43ef-9af9-df087f32c754",
   "metadata": {},
   "outputs": [],
   "source": [
    "To append new elements to the list?"
   ]
  },
  {
   "cell_type": "raw",
   "id": "6e63b17c-2b5b-4789-af89-a6341c52c226",
   "metadata": {},
   "source": [
    "append: append will add names at the end of the list"
   ]
  },
  {
   "cell_type": "code",
   "execution_count": null,
   "id": "9bf40fec-870f-401e-9001-3af1561713f6",
   "metadata": {},
   "outputs": [],
   "source": [
    "how to add elements to the list\n",
    "\n",
    "how to modify elements in the list\n",
    "\n",
    "hoe to delete elements from the list"
   ]
  },
  {
   "cell_type": "code",
   "execution_count": 14,
   "id": "b7a9134d-38ef-4675-9cb5-db32d4ea997b",
   "metadata": {},
   "outputs": [],
   "source": []
  },
  {
   "cell_type": "code",
   "execution_count": 15,
   "id": "90efc283-9921-4f1e-93fe-b43d683e965c",
   "metadata": {},
   "outputs": [
    {
     "name": "stdout",
     "output_type": "stream",
     "text": [
      "['arpita', 'ashwini', 'asma', 'bhuvan', 'david', 'karthik', 'shafi', 'shafi']\n"
     ]
    }
   ],
   "source": [
    "print(students)"
   ]
  },
  {
   "cell_type": "code",
   "execution_count": null,
   "id": "7c2e1848-aa00-4c9c-a856-83d050de6bf3",
   "metadata": {},
   "outputs": [],
   "source": [
    "#req: want to add shafi name in the list"
   ]
  },
  {
   "cell_type": "code",
   "execution_count": 17,
   "id": "e5039558-03d2-4497-b58b-b9258127078a",
   "metadata": {},
   "outputs": [],
   "source": [
    "students.append('shafi')"
   ]
  },
  {
   "cell_type": "code",
   "execution_count": 18,
   "id": "bfeda662-af65-41ca-a627-a8dfb396f895",
   "metadata": {},
   "outputs": [
    {
     "name": "stdout",
     "output_type": "stream",
     "text": [
      "['arpita', 'ashwini', 'asma', 'bhuvan', 'david', 'karthik', 'shafi', 'shafi', 'shafi', 'shafi']\n"
     ]
    }
   ],
   "source": [
    "print(students)"
   ]
  },
  {
   "cell_type": "code",
   "execution_count": null,
   "id": "083dbaed-2fa4-4dc7-9140-4d5d05b8e67d",
   "metadata": {},
   "outputs": [],
   "source": []
  },
  {
   "cell_type": "code",
   "execution_count": null,
   "id": "164140b0-efd6-44f5-9fc3-c1f5b7fbb7a4",
   "metadata": {},
   "outputs": [],
   "source": [
    "insert: append will give option to add name at the required postion to the list"
   ]
  },
  {
   "cell_type": "code",
   "execution_count": null,
   "id": "306e7937-0f66-4a21-b629-abdd6292d90a",
   "metadata": {},
   "outputs": [],
   "source": []
  },
  {
   "cell_type": "code",
   "execution_count": null,
   "id": "c3a359de-7c37-4120-a5c9-b43adbd4032b",
   "metadata": {},
   "outputs": [],
   "source": [
    "#req: want to add kalim name in the list but at 2nd position"
   ]
  },
  {
   "cell_type": "code",
   "execution_count": 20,
   "id": "36e28b21-d8cd-425e-ae68-f6c8294d2f52",
   "metadata": {},
   "outputs": [],
   "source": [
    "students.insert(2,'kalim')"
   ]
  },
  {
   "cell_type": "code",
   "execution_count": 24,
   "id": "5d6f691b-054a-4864-b69a-47735c80f709",
   "metadata": {},
   "outputs": [
    {
     "name": "stdout",
     "output_type": "stream",
     "text": [
      "['arpita', 'ashwini', 'kalim', 'asma', 'bhuvan', 'david', 'karthik', 'shafi', 'shafi', 'shafi', 'shafi']\n"
     ]
    }
   ],
   "source": [
    "print(students)"
   ]
  },
  {
   "cell_type": "code",
   "execution_count": null,
   "id": "fa534568-3773-46cd-8b6b-6267c6496661",
   "metadata": {},
   "outputs": [],
   "source": [
    "modify: "
   ]
  },
  {
   "cell_type": "code",
   "execution_count": 25,
   "id": "df5f7265-d94f-40df-ac5d-aeb7ea63eb19",
   "metadata": {},
   "outputs": [
    {
     "name": "stdout",
     "output_type": "stream",
     "text": [
      "['arpita', 'ashwini', 'kalim', 'asma', 'bhuvan', 'david', 'karthik', 'shafi', 'shafi', 'shafi', 'shafi']\n"
     ]
    }
   ],
   "source": [
    "print(students)"
   ]
  },
  {
   "cell_type": "code",
   "execution_count": null,
   "id": "1a613d2f-21b8-4053-964f-119f334f29d7",
   "metadata": {},
   "outputs": [],
   "source": [
    "#req: to modeify arpita name with anand"
   ]
  },
  {
   "cell_type": "code",
   "execution_count": 27,
   "id": "446c34ea-6994-44d9-bcfa-b27b16f15c6b",
   "metadata": {},
   "outputs": [],
   "source": [
    "students[0] = 'anand'"
   ]
  },
  {
   "cell_type": "code",
   "execution_count": 28,
   "id": "f68e01af-92f6-4d63-a630-7477a776f548",
   "metadata": {},
   "outputs": [
    {
     "name": "stdout",
     "output_type": "stream",
     "text": [
      "['anand', 'ashwini', 'kalim', 'asma', 'bhuvan', 'david', 'karthik', 'shafi', 'shafi', 'shafi', 'shafi']\n"
     ]
    }
   ],
   "source": [
    "print(students)"
   ]
  },
  {
   "cell_type": "code",
   "execution_count": null,
   "id": "8eeea96c-0f79-4c3e-af8f-6194fa99f30f",
   "metadata": {},
   "outputs": [],
   "source": [
    "delete: to delete element from the list"
   ]
  },
  {
   "cell_type": "code",
   "execution_count": 30,
   "id": "f84b7567-8113-4d6c-92af-6d07ba1ba49e",
   "metadata": {},
   "outputs": [],
   "source": [
    "del students[1]"
   ]
  },
  {
   "cell_type": "code",
   "execution_count": 31,
   "id": "c9d106e7-05f0-486e-b14b-3998630bf4f2",
   "metadata": {},
   "outputs": [
    {
     "name": "stdout",
     "output_type": "stream",
     "text": [
      "['anand', 'kalim', 'asma', 'bhuvan', 'david', 'karthik', 'shafi', 'shafi', 'shafi', 'shafi']\n"
     ]
    }
   ],
   "source": [
    "print(students)"
   ]
  },
  {
   "cell_type": "code",
   "execution_count": 33,
   "id": "2eb51238-98a4-450e-96b4-133508c7edaa",
   "metadata": {},
   "outputs": [],
   "source": [
    "del students[8]"
   ]
  },
  {
   "cell_type": "code",
   "execution_count": 34,
   "id": "9d786136-64aa-475a-8258-c549f1e37693",
   "metadata": {},
   "outputs": [
    {
     "name": "stdout",
     "output_type": "stream",
     "text": [
      "['anand', 'kalim', 'asma', 'bhuvan', 'david', 'karthik', 'shafi', 'shafi', 'shafi']\n"
     ]
    }
   ],
   "source": [
    "print(students)"
   ]
  },
  {
   "cell_type": "code",
   "execution_count": 37,
   "id": "f2f04748-133e-4157-80e5-ef27172c41e8",
   "metadata": {},
   "outputs": [
    {
     "name": "stdout",
     "output_type": "stream",
     "text": [
      "['anand', 'kalim', 'asma', 'bhuvan', 'david', 'karthik', 'shafi']\n"
     ]
    }
   ],
   "source": [
    "del students[7]\n",
    "print(students)"
   ]
  }
 ],
 "metadata": {
  "kernelspec": {
   "display_name": "Python 3 (ipykernel)",
   "language": "python",
   "name": "python3"
  },
  "language_info": {
   "codemirror_mode": {
    "name": "ipython",
    "version": 3
   },
   "file_extension": ".py",
   "mimetype": "text/x-python",
   "name": "python",
   "nbconvert_exporter": "python",
   "pygments_lexer": "ipython3",
   "version": "3.13.5"
  }
 },
 "nbformat": 4,
 "nbformat_minor": 5
}
