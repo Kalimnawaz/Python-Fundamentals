{
 "cells": [
  {
   "cell_type": "code",
   "execution_count": null,
   "id": "767bda04-d792-44ee-a603-b87a9134343b",
   "metadata": {},
   "outputs": [],
   "source": [
    "Introduction to python programming :"
   ]
  },
  {
   "cell_type": "code",
   "execution_count": null,
   "id": "82342f77-a543-485c-afec-7b7bbdfac6f0",
   "metadata": {},
   "outputs": [],
   "source": []
  },
  {
   "cell_type": "code",
   "execution_count": null,
   "id": "bcc66fce-af4b-49f4-9ba3-32595257fcf4",
   "metadata": {},
   "outputs": [],
   "source": [
    "Understanding the variables in python :"
   ]
  },
  {
   "cell_type": "code",
   "execution_count": null,
   "id": "5ddb2fda-774e-45ce-bb0f-041bad7ad4e0",
   "metadata": {},
   "outputs": [],
   "source": [
    "x = 2\n",
    "\n",
    "y = 3"
   ]
  },
  {
   "cell_type": "code",
   "execution_count": 8,
   "id": "655036f3-da0b-4bb6-b93e-3fbbd9d1ef9d",
   "metadata": {},
   "outputs": [
    {
     "name": "stdout",
     "output_type": "stream",
     "text": [
      "5\n"
     ]
    }
   ],
   "source": [
    "z = x+y\n",
    "\n",
    "print(z)"
   ]
  },
  {
   "cell_type": "code",
   "execution_count": null,
   "id": "2a46a120-f80d-4578-b4f5-6e98ecf29e36",
   "metadata": {},
   "outputs": [],
   "source": [
    "Rules for declaring the variables in python :"
   ]
  },
  {
   "cell_type": "code",
   "execution_count": null,
   "id": "34505a85-b941-42f6-afae-031221a32797",
   "metadata": {},
   "outputs": [],
   "source": [
    "Rule no. 1 : No Namespaces while declaring the variable names in python"
   ]
  },
  {
   "cell_type": "code",
   "execution_count": 9,
   "id": "30d4ffe6-88c9-49d2-bbee-ff0e2f21a89c",
   "metadata": {},
   "outputs": [
    {
     "ename": "SyntaxError",
     "evalue": "invalid syntax (2890761798.py, line 1)",
     "output_type": "error",
     "traceback": [
      "\u001b[1;36m  Cell \u001b[1;32mIn[9], line 1\u001b[1;36m\u001b[0m\n\u001b[1;33m    first name = 'faiyaz'\u001b[0m\n\u001b[1;37m          ^\u001b[0m\n\u001b[1;31mSyntaxError\u001b[0m\u001b[1;31m:\u001b[0m invalid syntax\n"
     ]
    }
   ],
   "source": [
    "first name = 'faiyaz'\n",
    "\n",
    "print(first name)"
   ]
  },
  {
   "cell_type": "code",
   "execution_count": 10,
   "id": "bb74acb9-1de8-4aed-ab84-226ae4b5d842",
   "metadata": {},
   "outputs": [
    {
     "name": "stdout",
     "output_type": "stream",
     "text": [
      "faiyaz\n"
     ]
    }
   ],
   "source": [
    "firstname = 'faiyaz'\n",
    "\n",
    "print(firstname)"
   ]
  },
  {
   "cell_type": "code",
   "execution_count": null,
   "id": "b640a38c-d630-45c0-b7c6-f0eb694402bf",
   "metadata": {},
   "outputs": [],
   "source": [
    "Rule no. 2 : A variable name should not start with a number **"
   ]
  },
  {
   "cell_type": "code",
   "execution_count": 11,
   "id": "edbdcd82-dbed-435f-9238-22090e5d4f85",
   "metadata": {},
   "outputs": [
    {
     "ename": "SyntaxError",
     "evalue": "invalid decimal literal (3621741276.py, line 1)",
     "output_type": "error",
     "traceback": [
      "\u001b[1;36m  Cell \u001b[1;32mIn[11], line 1\u001b[1;36m\u001b[0m\n\u001b[1;33m    1name = \"karthik\"\u001b[0m\n\u001b[1;37m    ^\u001b[0m\n\u001b[1;31mSyntaxError\u001b[0m\u001b[1;31m:\u001b[0m invalid decimal literal\n"
     ]
    }
   ],
   "source": [
    "1name = \"karthik\"\n",
    "\n",
    "print(1name)"
   ]
  },
  {
   "cell_type": "code",
   "execution_count": 12,
   "id": "7f42cd55-b41c-4fb7-ac6a-679736cce1fd",
   "metadata": {},
   "outputs": [
    {
     "name": "stdout",
     "output_type": "stream",
     "text": [
      "karthik\n"
     ]
    }
   ],
   "source": [
    "name1 = \"karthik\"\n",
    "\n",
    "print(name1)"
   ]
  },
  {
   "cell_type": "code",
   "execution_count": null,
   "id": "7a443426-d898-4b6b-9e76-cf66b048dea0",
   "metadata": {},
   "outputs": [],
   "source": [
    "Rule no. 3 : A variable should not contain any special characters (@,# $%^&*) "
   ]
  },
  {
   "cell_type": "code",
   "execution_count": 13,
   "id": "9d023b46-f23b-4876-a379-9345081c9942",
   "metadata": {},
   "outputs": [
    {
     "ename": "SyntaxError",
     "evalue": "invalid syntax (3438818237.py, line 1)",
     "output_type": "error",
     "traceback": [
      "\u001b[1;36m  Cell \u001b[1;32mIn[13], line 1\u001b[1;36m\u001b[0m\n\u001b[1;33m    name@ = \"kartik\"\u001b[0m\n\u001b[1;37m          ^\u001b[0m\n\u001b[1;31mSyntaxError\u001b[0m\u001b[1;31m:\u001b[0m invalid syntax\n"
     ]
    }
   ],
   "source": [
    "name@ = \"kartik\"\n",
    "\n",
    "print(name@)"
   ]
  },
  {
   "cell_type": "code",
   "execution_count": null,
   "id": "0e052d50-4ec7-4048-9b96-9df0e11b583c",
   "metadata": {},
   "outputs": [],
   "source": [
    "Introduction to Data types in python:"
   ]
  },
  {
   "cell_type": "code",
   "execution_count": null,
   "id": "fa17537c-52f7-4f3f-83cb-c1bea0df542d",
   "metadata": {},
   "outputs": [],
   "source": [
    "1. strings ====> str\n",
    "\n",
    "2. numbers ====> \n",
    "   a. integers ----> int and \n",
    "   b. floats ----> float (decimals ----> 01.,0.2)\n",
    "\n",
    "3. lists ====> list\n",
    "\n",
    "4. tuples ====> tuple\n",
    "\n",
    "5. Dictionaries ====> dict"
   ]
  },
  {
   "cell_type": "code",
   "execution_count": null,
   "id": "8deb0c96-a52f-4671-8635-0f3f5ac830b0",
   "metadata": {},
   "outputs": [],
   "source": [
    "Note: python is case sensitive programming language."
   ]
  },
  {
   "cell_type": "code",
   "execution_count": null,
   "id": "87649a51-c882-47ee-b0c9-88f6deab974c",
   "metadata": {},
   "outputs": [],
   "source": [
    "CLASSIFICATION OF DATA TYPES:"
   ]
  },
  {
   "cell_type": "code",
   "execution_count": null,
   "id": "61b45fd9-df23-4274-93fe-dd94fd1997a7",
   "metadata": {},
   "outputs": [],
   "source": [
    "classification of data types in python:\n",
    "\n",
    "Broadly datatypes are classified in 2 categories:\n",
    "\n",
    "1. Mutable datatypes: which we can edit --> flexible in nature\n",
    "\n",
    "2. Immutable datatypes: which we cannot edit --> these are fixed in nature"
   ]
  },
  {
   "cell_type": "code",
   "execution_count": null,
   "id": "aba0438b-ad45-4ecc-a72c-b8fccb17e142",
   "metadata": {},
   "outputs": [],
   "source": [
    "INTRODUCTION TO STRING DATATYPE:"
   ]
  },
  {
   "cell_type": "code",
   "execution_count": null,
   "id": "4040baf5-40cd-488e-ac48-61f01b7a2985",
   "metadata": {},
   "outputs": [],
   "source": [
    "Introdcution to string datatype:\n",
    "\n",
    "Definition: A string is a series of characters declared in quotes.\n",
    "Classification: It is classified as an immutable datatype\n",
    "\n",
    "How to declare a string datatype? ====> 2 approaches\n",
    "\n",
    "1. single quote\n",
    "2. double quote "
   ]
  },
  {
   "cell_type": "code",
   "execution_count": 14,
   "id": "dfff92db-0b98-4794-83b4-38e3e0ddac90",
   "metadata": {},
   "outputs": [
    {
     "name": "stdout",
     "output_type": "stream",
     "text": [
      "kalim\n"
     ]
    }
   ],
   "source": [
    "name = 'kalim' # single quote\n",
    "\n",
    "print(name)"
   ]
  },
  {
   "cell_type": "code",
   "execution_count": 17,
   "id": "66e72fa9-1460-4f89-b140-0f1071a7d3d8",
   "metadata": {},
   "outputs": [
    {
     "name": "stdout",
     "output_type": "stream",
     "text": [
      "kalim\n"
     ]
    }
   ],
   "source": [
    "name2 = \"kalim\" # double quote\n",
    "\n",
    "print(name2)"
   ]
  },
  {
   "cell_type": "code",
   "execution_count": null,
   "id": "8a3f31b8-fd6a-4c11-b249-3db3735e1b5c",
   "metadata": {},
   "outputs": [],
   "source": [
    "INTRODUCTION TO STRING METHODS:"
   ]
  },
  {
   "cell_type": "code",
   "execution_count": null,
   "id": "dc760b33-3cb4-4cc3-817e-89972c1e31fd",
   "metadata": {},
   "outputs": [],
   "source": [
    "Methods are built-in programs (eg. formula) availble in python\n",
    "\n",
    "Method-1: type(datatype)"
   ]
  },
  {
   "cell_type": "code",
   "execution_count": 18,
   "id": "8b5449a4-7ef4-42a9-95f6-7ea8538805a0",
   "metadata": {},
   "outputs": [
    {
     "data": {
      "text/plain": [
       "str"
      ]
     },
     "execution_count": 18,
     "metadata": {},
     "output_type": "execute_result"
    }
   ],
   "source": [
    "type(name)"
   ]
  },
  {
   "cell_type": "code",
   "execution_count": 19,
   "id": "dfaef42d-c2ca-405b-aba4-0f2fa75447d8",
   "metadata": {},
   "outputs": [
    {
     "data": {
      "text/plain": [
       "str"
      ]
     },
     "execution_count": 19,
     "metadata": {},
     "output_type": "execute_result"
    }
   ],
   "source": [
    "type(name2)"
   ]
  },
  {
   "cell_type": "code",
   "execution_count": null,
   "id": "39c583fa-7c55-43bd-bc83-c5f260ef8b26",
   "metadata": {},
   "outputs": [],
   "source": [
    "Method-2: title() --- To get first letter in name as Capital"
   ]
  },
  {
   "cell_type": "code",
   "execution_count": 20,
   "id": "b8f4d11a-584d-4d9a-88cb-75b164d4d13b",
   "metadata": {},
   "outputs": [
    {
     "name": "stdout",
     "output_type": "stream",
     "text": [
      "zeba ansari\n"
     ]
    }
   ],
   "source": [
    "fullname = 'zeba ansari'\n",
    "\n",
    "print(fullname)"
   ]
  },
  {
   "cell_type": "code",
   "execution_count": null,
   "id": "37fb02e0-6865-47bc-869e-58d82271ee7e",
   "metadata": {},
   "outputs": [],
   "source": [
    "#req 1: to corret the format i.e. to write first letter in capital"
   ]
  },
  {
   "cell_type": "code",
   "execution_count": 21,
   "id": "7318b264-05a9-4210-9ea6-bc307063db05",
   "metadata": {},
   "outputs": [
    {
     "name": "stdout",
     "output_type": "stream",
     "text": [
      "Zeba Ansari\n"
     ]
    }
   ],
   "source": [
    "print (fullname.title())"
   ]
  },
  {
   "cell_type": "code",
   "execution_count": null,
   "id": "74d6be61-6a7a-4e9f-9059-ac2006bc5a2a",
   "metadata": {},
   "outputs": [],
   "source": [
    "#req 2: to get all the letters as capital"
   ]
  },
  {
   "cell_type": "code",
   "execution_count": 22,
   "id": "6d13d4f5-47ed-41b1-9fe3-4c97cc322113",
   "metadata": {},
   "outputs": [
    {
     "name": "stdout",
     "output_type": "stream",
     "text": [
      "ZEBA ANSARI\n"
     ]
    }
   ],
   "source": [
    "print (fullname.upper())"
   ]
  },
  {
   "cell_type": "code",
   "execution_count": null,
   "id": "f0003a80-2a83-4614-9cce-a66ed2e1df38",
   "metadata": {},
   "outputs": [],
   "source": [
    "#req 3: to get all the letters as small"
   ]
  },
  {
   "cell_type": "code",
   "execution_count": 23,
   "id": "22c66854-f2b2-460c-9bb1-725608f05571",
   "metadata": {},
   "outputs": [
    {
     "name": "stdout",
     "output_type": "stream",
     "text": [
      "zeba ansari\n"
     ]
    }
   ],
   "source": [
    "print (fullname.lower())"
   ]
  },
  {
   "cell_type": "code",
   "execution_count": null,
   "id": "c9db95ad-166c-466e-be87-a897c28a1649",
   "metadata": {},
   "outputs": [],
   "source": []
  }
 ],
 "metadata": {
  "kernelspec": {
   "display_name": "Python 3 (ipykernel)",
   "language": "python",
   "name": "python3"
  },
  "language_info": {
   "codemirror_mode": {
    "name": "ipython",
    "version": 3
   },
   "file_extension": ".py",
   "mimetype": "text/x-python",
   "name": "python",
   "nbconvert_exporter": "python",
   "pygments_lexer": "ipython3",
   "version": "3.13.5"
  }
 },
 "nbformat": 4,
 "nbformat_minor": 5
}
