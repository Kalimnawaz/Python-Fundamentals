{
 "cells": [
  {
   "cell_type": "code",
   "execution_count": null,
   "id": "f9a40a83-292a-4440-9b6e-eddb15782032",
   "metadata": {},
   "outputs": [],
   "source": [
    "continuation with string datatype:"
   ]
  },
  {
   "cell_type": "code",
   "execution_count": null,
   "id": "23a48b72-0508-4a03-abe0-31ccd90ee5b2",
   "metadata": {},
   "outputs": [],
   "source": []
  },
  {
   "cell_type": "code",
   "execution_count": null,
   "id": "a168e067-924a-4130-87af-388b25ac4d15",
   "metadata": {},
   "outputs": [],
   "source": [
    "introduction of f strings **"
   ]
  },
  {
   "cell_type": "code",
   "execution_count": null,
   "id": "704631aa-a4d1-4b46-98a8-9adf9330ded3",
   "metadata": {},
   "outputs": [],
   "source": []
  },
  {
   "cell_type": "code",
   "execution_count": 23,
   "id": "2d2875dc-6aa0-4b80-bab5-8b70dc1cc0b9",
   "metadata": {},
   "outputs": [],
   "source": [
    "firstname = 'dinesh'\n",
    "\n",
    "lastname = 'kumar'"
   ]
  },
  {
   "cell_type": "code",
   "execution_count": 1,
   "id": "642560d9-30a4-4002-a043-aa1b5b224a50",
   "metadata": {},
   "outputs": [],
   "source": [
    "# req : I want to get the fullname...?"
   ]
  },
  {
   "cell_type": "code",
   "execution_count": 4,
   "id": "656fe23b-8f11-4a1c-8fd5-b58132e2ccd5",
   "metadata": {},
   "outputs": [],
   "source": [
    "# general syntax of f strings"
   ]
  },
  {
   "cell_type": "code",
   "execution_count": null,
   "id": "083bc7f5-e07b-4548-b0a5-59cc005f71e3",
   "metadata": {},
   "outputs": [],
   "source": [
    "f\"custom message {placehoder_1} {placeholder_2}.....{placeholder_n}\""
   ]
  },
  {
   "cell_type": "code",
   "execution_count": 24,
   "id": "308f3eab-8725-407c-b5bd-331c5eb1960d",
   "metadata": {},
   "outputs": [
    {
     "name": "stdout",
     "output_type": "stream",
     "text": [
      "dinesh kumar\n"
     ]
    }
   ],
   "source": [
    "fullname = f\"{firstname} {lastname}\"\n",
    "\n",
    "print(fullname)"
   ]
  },
  {
   "cell_type": "code",
   "execution_count": 25,
   "id": "609d95ba-37d0-4436-83f5-c15a92c0f32d",
   "metadata": {},
   "outputs": [
    {
     "name": "stdout",
     "output_type": "stream",
     "text": [
      "Dinesh Kumar\n"
     ]
    }
   ],
   "source": [
    "print(fullname.title())"
   ]
  },
  {
   "cell_type": "code",
   "execution_count": 28,
   "id": "797f1966-16af-446e-83e0-ac5ca3390bba",
   "metadata": {},
   "outputs": [
    {
     "name": "stdout",
     "output_type": "stream",
     "text": [
      "keep up the good work, Dinesh Kumar\n"
     ]
    }
   ],
   "source": [
    "message = f\"keep up the good work, {fullname.title()}\"\n",
    "print(message)"
   ]
  },
  {
   "cell_type": "code",
   "execution_count": null,
   "id": "00e49322-44b8-4631-a199-c14e74052c45",
   "metadata": {},
   "outputs": [],
   "source": [
    "#adding whitespaces to strings:"
   ]
  },
  {
   "cell_type": "code",
   "execution_count": 30,
   "id": "46b57922-2746-4044-9db4-30832a650fe3",
   "metadata": {},
   "outputs": [
    {
     "name": "stdout",
     "output_type": "stream",
     "text": [
      "favourite_language:PythonCjavaC++swiftjavascript\n"
     ]
    }
   ],
   "source": [
    "print(\"favourite_language:PythonCjavaC++swiftjavascript\")"
   ]
  },
  {
   "cell_type": "code",
   "execution_count": 31,
   "id": "684ee14a-f2ab-4669-bfbd-c1394778aae6",
   "metadata": {},
   "outputs": [
    {
     "name": "stdout",
     "output_type": "stream",
     "text": [
      "favourite_language:\n",
      "Python\n",
      "C\n",
      "java\n",
      "C++\n",
      "swift\n",
      "javascript\n"
     ]
    }
   ],
   "source": [
    "print(\"favourite_language:\\nPython\\nC\\njava\\nC++\\nswift\\njavascript\")   #\\n ---- new line delimiter"
   ]
  },
  {
   "cell_type": "code",
   "execution_count": 32,
   "id": "5ef6b7e6-37cc-4201-bba1-885203e295ac",
   "metadata": {},
   "outputs": [
    {
     "name": "stdout",
     "output_type": "stream",
     "text": [
      "favourite_language:\n",
      "\tPython\n",
      "\tC\n",
      "\tjava\n",
      "\tC++\n",
      "\tswift\n",
      "\tjavascript\n"
     ]
    }
   ],
   "source": [
    "print(\"favourite_language:\\n\\tPython\\n\\tC\\n\\tjava\\n\\tC++\\n\\tswift\\n\\tjavascript\") #\\t ---- new tab delimiter"
   ]
  },
  {
   "cell_type": "code",
   "execution_count": null,
   "id": "74f0eae3-8e53-4839-b907-5d5cd2783840",
   "metadata": {},
   "outputs": [],
   "source": [
    "Additional space occupies the system space so whenever it is not required remove the space\n",
    "\n",
    "|strip means it removed the space from left side"
   ]
  },
  {
   "cell_type": "code",
   "execution_count": null,
   "id": "d5e169f2-f6b3-415d-8250-b8056e9bfb49",
   "metadata": {},
   "outputs": [],
   "source": [
    "#removing whitespaces from the strings:"
   ]
  },
  {
   "cell_type": "code",
   "execution_count": 33,
   "id": "b0ea3f6c-9227-4dc6-9a33-b981ede33cb1",
   "metadata": {},
   "outputs": [
    {
     "name": "stdout",
     "output_type": "stream",
     "text": [
      " python\n"
     ]
    }
   ],
   "source": [
    "name = \" python\"\n",
    "\n",
    "print(name)"
   ]
  },
  {
   "cell_type": "code",
   "execution_count": 34,
   "id": "99e807d2-9663-4070-be98-0e8b9d72ee78",
   "metadata": {},
   "outputs": [
    {
     "name": "stdout",
     "output_type": "stream",
     "text": [
      "python \n"
     ]
    }
   ],
   "source": [
    "name2 = \"python \"\n",
    "\n",
    "print(name2)"
   ]
  },
  {
   "cell_type": "code",
   "execution_count": 35,
   "id": "0bdad929-3338-400e-bf70-fd93cd35da33",
   "metadata": {},
   "outputs": [
    {
     "name": "stdout",
     "output_type": "stream",
     "text": [
      " python \n"
     ]
    }
   ],
   "source": [
    "name3 = \" python \"\n",
    "print(name3)"
   ]
  },
  {
   "cell_type": "code",
   "execution_count": 36,
   "id": "5e486b6d-86fc-4eae-a738-e9754addb93d",
   "metadata": {},
   "outputs": [
    {
     "data": {
      "text/plain": [
       "'python'"
      ]
     },
     "execution_count": 36,
     "metadata": {},
     "output_type": "execute_result"
    }
   ],
   "source": [
    "name.lstrip()    # lstrip means remove space from left"
   ]
  },
  {
   "cell_type": "code",
   "execution_count": 37,
   "id": "4bf39db7-a123-4c4e-9363-24382d59a281",
   "metadata": {},
   "outputs": [
    {
     "data": {
      "text/plain": [
       "'python'"
      ]
     },
     "execution_count": 37,
     "metadata": {},
     "output_type": "execute_result"
    }
   ],
   "source": [
    "name2.rstrip()   # rstrip means remove space from left"
   ]
  },
  {
   "cell_type": "code",
   "execution_count": 38,
   "id": "250b6aca-68c5-476c-adae-0d89c1232dd5",
   "metadata": {},
   "outputs": [
    {
     "data": {
      "text/plain": [
       "'python'"
      ]
     },
     "execution_count": 38,
     "metadata": {},
     "output_type": "execute_result"
    }
   ],
   "source": [
    "name3.strip()    # strip means remove space from both the sides"
   ]
  },
  {
   "cell_type": "code",
   "execution_count": null,
   "id": "bde2c277-1bc8-48d2-a8d8-8fc5abcf6315",
   "metadata": {},
   "outputs": [],
   "source": [
    "#Zen of python: Guiding principles"
   ]
  },
  {
   "cell_type": "code",
   "execution_count": null,
   "id": "f35f1002-3872-4566-b748-68d7a438f739",
   "metadata": {},
   "outputs": [],
   "source": [
    "Import this"
   ]
  },
  {
   "cell_type": "code",
   "execution_count": null,
   "id": "a8668646-c51a-4463-b5c9-0007f42a1078",
   "metadata": {},
   "outputs": [],
   "source": [
    "The Zen of Python, by Tim Peters \n",
    "\n",
    "Beautiful is better than ugly.\n",
    "Explicit is better than implicit.\n",
    "Simple is better than complex.\n",
    "Complex is better than complicated.\n",
    "Flat is better than nested.\n",
    "Sparse is better than dense.\n",
    "Readability counts.\n",
    "Special cases aren't special enough to break the rules.\n",
    "Although practicality beats purity.\n",
    "Errors should never pass silently.\n",
    "Unless explicitly silenced.\n",
    "In the face of ambiguity, refuse the temptation to guess.\n",
    "There should be one-- and preferably only one --obvious way to do it.\n",
    "Although that way may not be obvious at first unless you're Dutch.\n",
    "Now is better than never.\n",
    "Although never is often better than *right* now.\n",
    "If the implementation is hard to explain, it's a bad idea.\n",
    "If the implementation is easy to explain, it may be a good idea.\n",
    "Namespaces are one honking great idea -- let's do more of those!"
   ]
  },
  {
   "cell_type": "code",
   "execution_count": null,
   "id": "a833e54a-0453-49b2-8f7f-57a6ba0a5f10",
   "metadata": {},
   "outputs": [],
   "source": []
  }
 ],
 "metadata": {
  "kernelspec": {
   "display_name": "Python 3 (ipykernel)",
   "language": "python",
   "name": "python3"
  },
  "language_info": {
   "codemirror_mode": {
    "name": "ipython",
    "version": 3
   },
   "file_extension": ".py",
   "mimetype": "text/x-python",
   "name": "python",
   "nbconvert_exporter": "python",
   "pygments_lexer": "ipython3",
   "version": "3.13.5"
  }
 },
 "nbformat": 4,
 "nbformat_minor": 5
}
